{
 "cells": [
  {
   "cell_type": "markdown",
   "id": "67c52eeb",
   "metadata": {},
   "source": [
    "Challenge 1 🤺 - 10m\n",
    "Crear una función que imprima la variable palabra."
   ]
  },
  {
   "cell_type": "code",
   "execution_count": 8,
   "id": "116dd309",
   "metadata": {},
   "outputs": [
    {
     "name": "stdout",
     "output_type": "stream",
     "text": [
      "hola mundo\n"
     ]
    }
   ],
   "source": [
    "def imprimir_palabra():\n",
    "    palabra = 'hola mundo'\n",
    "    print (palabra)\n",
    "imprimir_palabra()"
   ]
  },
  {
   "cell_type": "code",
   "execution_count": null,
   "id": "f57335fe",
   "metadata": {},
   "outputs": [],
   "source": [
    "def sumar_numeros(numero1, numero2):\n",
    "    numero = "
   ]
  },
  {
   "cell_type": "markdown",
   "id": "b59b7be5",
   "metadata": {},
   "source": [
    "Challenge 2 🤺 - 20 min\n",
    "Crear una función que reciba dos letras (parámetros) y que verifique si son iguales:\n",
    "\n",
    "Si son iguales, imprimir \"Las letras son iguales\".\n",
    "\n",
    "De lo contrario, imprimir \"Las letras son diferentes\"."
   ]
  },
  {
   "cell_type": "code",
   "execution_count": 16,
   "id": "9c10b8d4",
   "metadata": {},
   "outputs": [
    {
     "name": "stdout",
     "output_type": "stream",
     "text": [
      "las letras son diferentes\n"
     ]
    }
   ],
   "source": [
    "#crear una funcion que solicite 2 letras\n",
    "# que verifique si son iguales o diferentes \n",
    "def comprarar_letras (letra_1, letra_2):\n",
    "    if letra_1 == letra_2:\n",
    "        print ('las letras son iguales')\n",
    "    elif letra_1 != letra_2:\n",
    "        print ('las letras son diferentes')\n",
    "\n",
    "letra1 = input('escribe una letra') \n",
    "letra2 = input('escribe otra letra')\n",
    "\n",
    "comprarar_letras(letra1,letra2)"
   ]
  },
  {
   "cell_type": "markdown",
   "id": "8adfb5d8",
   "metadata": {},
   "source": [
    "Challenge 3 🤺 - 20m\n",
    "Crear una función que reciba dos parámetros (una palabra y un número), y que retorne True si el número es igual a la cantidad de letras de la palabra. En caso contrario, que retorne False.\n",
    "\n",
    "Pista: cantidad de letras de una palabra en python"
   ]
  },
  {
   "cell_type": "code",
   "execution_count": null,
   "id": "a7c8f43e",
   "metadata": {},
   "outputs": [
    {
     "data": {
      "text/plain": [
       "True"
      ]
     },
     "execution_count": 46,
     "metadata": {},
     "output_type": "execute_result"
    }
   ],
   "source": [
    "#crear una funcion que reciba 2 parametros \n",
    "\n",
    "def recibir_datos (palabra, numero):\n",
    "        if len(palabra) == numero:\n",
    "            return (True)\n",
    "        else:\n",
    "            return (False)\n",
    "        \n",
    "\n",
    "palabra = input(('ingrese una palabra'))\n",
    "numero = int(input(('ingrese un numero')))\n",
    "\n",
    "recibir_datos(palabra,numero)"
   ]
  },
  {
   "cell_type": "markdown",
   "id": "7660538f",
   "metadata": {},
   "source": [
    "Challenge 5 🤺 - 25m\n",
    "\n",
    "Pedir al usuario que ingrese 1 palabra, luego convertir esa palabra a una lista con sus caracteres con list(). Agregar esa lista de caracteres a una lista llamada palabras_ingresadas. Repetir el proceso 3 veces. Cada vez que se agregue una lista de caracteres, imprimir la lista palabras_ingresadas.\n",
    "\n",
    "\n",
    "Ejemplo del resultado esperado:\n",
    "\n",
    "[['c', 'i', 'e', 'l', 'o']]\n",
    " # Al ingresar la primera palabra\n",
    "\n",
    "[['c', 'i', 'e', 'l', 'o'], ['c', 'a', 'l', 'o', 'r']]\n",
    " # Al ingresar la segunda palabra\n",
    "\n",
    "[['c', 'i', 'e', 'l', 'o'], ['c', 'a', 'l', 'o', 'r'], ['n', 'u', 'b', 'e', 's']]\n",
    " # Al ingresar la tercera palabra"
   ]
  },
  {
   "cell_type": "code",
   "execution_count": null,
   "id": "02004ff1",
   "metadata": {},
   "outputs": [],
   "source": [
    "#ejemplo 1\n",
    "\n",
    "lista_de_listas = []\n",
    "\n",
    "palabra = input(\"primera palabra\")\n",
    "lista = list(palabra) \n",
    "lista_de_listas.append (lista)\n",
    "print (lista_de_listas)\n",
    "\n",
    "palabra1 = input(\"segunda palabra\")\n",
    "lista1 = list(palabra1)\n",
    "lista_de_listas.append (lista1)\n",
    "print(lista_de_listas)\n",
    "\n",
    "palabra2 = input(\"tercera palabra\")\n",
    "lista2 = list(palabra2)\n",
    "lista_de_listas.append (lista2)\n",
    "print(lista_de_listas)"
   ]
  },
  {
   "cell_type": "code",
   "execution_count": null,
   "id": "4c96ab72",
   "metadata": {},
   "outputs": [],
   "source": [
    "#ejemplo 2\n",
    "palabras_ingresadas = []\n",
    "\n",
    "def Conteo():\n",
    "\n",
    "    Palabra_ingresada_usuario = input(\"Pon una palabra\")\n",
    "    palabra_descompuesta = list(Palabra_ingresada_usuario)\n",
    "    palabras_ingresadas.append(palabra_descompuesta)\n",
    "    print(palabras_ingresadas)\n",
    "\n",
    "Conteo()\n",
    "Conteo()\n",
    "Conteo()"
   ]
  },
  {
   "cell_type": "code",
   "execution_count": null,
   "id": "ae2fed39",
   "metadata": {},
   "outputs": [],
   "source": [
    "#ejemplo 3\n",
    "palabras_ingresadas = []\n",
    "for i in range(3):\n",
    "    palabra_user = input('Introduce una palabra crack:')\n",
    "    palabra_listeada = list(palabra_user)\n",
    "    palabras_ingresadas.append(palabra_listeada)\n",
    "    print(palabras_ingresadas)"
   ]
  },
  {
   "cell_type": "code",
   "execution_count": 56,
   "id": "f79c944d",
   "metadata": {},
   "outputs": [],
   "source": [
    "#pedir al usuario (con input)\n",
    "#convertir la palabra en una lista con list() = lista1\n",
    "#agregar esa lista1 a otra lista llamada palabras_ingresadas\n",
    "#repetir ese proceso 3 veces\n",
    "#cada vez que se escriba lista1, imprimir lista palabras ingresadas\n",
    "\n",
    "palabra = input(\"ingrese una palabra\")\n",
    "while palabra in list (palabra):\n",
    "    print (palabra)\n"
   ]
  },
  {
   "cell_type": "markdown",
   "id": "ab81a8eb",
   "metadata": {},
   "source": [
    "Challenge 6 🤺 - 25m\n",
    "Dada la lista de ejemplo: \n",
    "\n",
    "lista = [['h', 'o', 'l', 'i', 's'], ['h', 'e', 'l', 'l', 'o'], ['h', 'a', 'l', 'l', 'o']]\n",
    "\n",
    "Crear una función que imprima una grilla (lista de listas), una línea por cada lista dentro de la lista principal.\n",
    "\n",
    "Ejemplo del resultado esperado:\n",
    "\n",
    "['h', 'o', 'l', 'i', 's']\n",
    "['h', 'e', 'l', 'l', 'o']\n",
    "['h', 'a', 'l', 'l', 'o']"
   ]
  },
  {
   "cell_type": "code",
   "execution_count": null,
   "id": "3988f04d",
   "metadata": {},
   "outputs": [
    {
     "name": "stdout",
     "output_type": "stream",
     "text": [
      "[['h', 'o', 'l', 'i', 's'], ['h', 'e', 'l', 'l', 'o'], ['h', 'a', 'l', 'l', 'o']]\n"
     ]
    }
   ],
   "source": [
    "#crear una funcion que imprima una lista, una debajo de otra\n",
    "\n",
    "lista_de_listas = []\n",
    "\n",
    "palabra = input(\"primera palabra\")\n",
    "lista = list(palabra) \n",
    "lista_de_listas.append (lista)\n",
    "print (lista_de_listas)\n",
    "\n",
    "\n",
    "\n",
    "def lista_de_lista ():\n",
    "lista = ['h', 'o', 'l', 'i', 's'], ['h', 'e', 'l', 'l', 'o'], ['h', 'a', 'l', 'l', 'o']\n",
    "grilla = list(lista)\n",
    "grilla.append(lista_de_lista)"
   ]
  },
  {
   "cell_type": "code",
   "execution_count": null,
   "id": "84f2671c",
   "metadata": {},
   "outputs": [],
   "source": [
    "lista = [['h', 'o', 'l', 'i', 's'], ['h', 'e', 'l', 'l', 'o'], ['h', 'a', 'l', 'l', 'o']]\n",
    "def imprimir_lista (lista):\n",
    "    print(lista[0])\n",
    "    print(lista[1])\n",
    "    print(lista[2])\n",
    "imprimir_lista(lista)"
   ]
  },
  {
   "cell_type": "markdown",
   "id": "5228df74",
   "metadata": {},
   "source": [
    "INICIAR JUEGO\n",
    "\n",
    "DEFENIR palabra_a_encontrar: nueve\n",
    "\n",
    "DEFENIR cantidad_de_letras:5\n",
    "\n",
    "DEFENIR intentos:3\n",
    "\n",
    "CREAR grilla vacia (lista para mostrar el progreso del jugador)\n",
    "\n",
    "Mostrar mensaje de bienvenida"
   ]
  },
  {
   "cell_type": "code",
   "execution_count": null,
   "id": "22e9fcf9",
   "metadata": {},
   "outputs": [],
   "source": [
    "def recibir_datos (palabra, numero):\n",
    "        if len(palabra) == numero:\n",
    "            return (True)\n",
    "        else:\n",
    "            return (False)\n",
    "        \n",
    "\n",
    "palabra = input(('ingrese una palabra'))\n",
    "numero = int(input(('ingrese un numero')))\n",
    "\n",
    "recibir_datos(palabra,numero)"
   ]
  },
  {
   "cell_type": "code",
   "execution_count": null,
   "id": "36adf748",
   "metadata": {},
   "outputs": [],
   "source": [
    "        \n",
    "\n",
    "\n",
    "print(palabra_a_encontrar)\n",
    "for respuesta in range(3):\n",
    "    \n",
    "        contador -1\n",
    "    print(f'te quedan {contador} intentos')\n"
   ]
  },
  {
   "cell_type": "code",
   "execution_count": null,
   "id": "b8cc6c89",
   "metadata": {},
   "outputs": [
    {
     "ename": "IndentationError",
     "evalue": "expected an indented block after 'for' statement on line 4 (735066187.py, line 7)",
     "output_type": "error",
     "traceback": [
      "  \u001b[36mCell\u001b[39m\u001b[36m \u001b[39m\u001b[32mIn[83]\u001b[39m\u001b[32m, line 7\u001b[39m\n\u001b[31m    \u001b[39m\u001b[31mpalabra_secreta = 'nueve'\u001b[39m\n    ^\n\u001b[31mIndentationError\u001b[39m\u001b[31m:\u001b[39m expected an indented block after 'for' statement on line 4\n"
     ]
    }
   ],
   "source": [
    "\n",
    "\n",
    "\n"
   ]
  },
  {
   "cell_type": "code",
   "execution_count": 108,
   "id": "eaefeba2",
   "metadata": {},
   "outputs": [
    {
     "name": "stdout",
     "output_type": "stream",
     "text": [
      "correcto\n",
      "correcto\n",
      "correcto\n",
      "correcto\n",
      "correcto\n"
     ]
    }
   ],
   "source": [
    "palabra_secreta = 'nueve'\n",
    "palabra_a_encontrar =input(len('escribe una letra'))\n",
    "lista_secreta = list(palabra_secreta)\n",
    "lista_jugada = list(palabra_a_encontrar)\n",
    "for cantidad_de_letras in (palabra_secreta):\n",
    "      if palabra_a_encontrar == palabra_secreta:\n",
    "            print('correcto')"
   ]
  }
 ],
 "metadata": {
  "kernelspec": {
   "display_name": "Python 3",
   "language": "python",
   "name": "python3"
  },
  "language_info": {
   "codemirror_mode": {
    "name": "ipython",
    "version": 3
   },
   "file_extension": ".py",
   "mimetype": "text/x-python",
   "name": "python",
   "nbconvert_exporter": "python",
   "pygments_lexer": "ipython3",
   "version": "3.13.3"
  }
 },
 "nbformat": 4,
 "nbformat_minor": 5
}
