{
 "cells": [
  {
   "cell_type": "markdown",
   "id": "54abeb8e",
   "metadata": {},
   "source": [
    "# Python\n",
    "## Python\n",
    "\n",
    "es un lenguaje de programación de alto nivel, versátil y fácil de aprender, ideal para una amplia gama de aplicaciones, desde desarrollo web y software hasta ciencia de datos y aprendizaje automático. Se caracteriza por su sintaxis clara y legible, lo que facilita la escritura y lectura del código. \n"
   ]
  },
  {
   "cell_type": "code",
   "execution_count": 10,
   "id": "91e3f452",
   "metadata": {},
   "outputs": [
    {
     "name": "stdout",
     "output_type": "stream",
     "text": [
      "Hola Mundo\n"
     ]
    }
   ],
   "source": [
    "print(\"Hola Mundo\")"
   ]
  },
  {
   "cell_type": "code",
   "execution_count": 13,
   "id": "f51c8119",
   "metadata": {},
   "outputs": [
    {
     "name": "stdout",
     "output_type": "stream",
     "text": [
      "Nicole\n",
      "Borja\n"
     ]
    }
   ],
   "source": [
    "nombre = \"Nicole\"\n",
    "apellido = \"Borja\"\n",
    "print (nombre)\n",
    "print (apellido)\n"
   ]
  },
  {
   "cell_type": "code",
   "execution_count": null,
   "id": "93de6bfb",
   "metadata": {},
   "outputs": [],
   "source": [
    "precio_total = 15000 + 20000"
   ]
  },
  {
   "cell_type": "markdown",
   "id": "48a6b562",
   "metadata": {},
   "source": [
    "suma : asignar dos numeros en dos variables diferentes cantidad_de_manzanas y cantidad_de_naranjas. Luego sumar ambas variables en cantidad_de_frutas imprimir la ultima variable.\n",
    "Resta: asignar un valor numerico a la variable frutas_vendidas. Luego asignar la resta entre cantidad_de_frutas y frutas_vendidas a la variable frutas_restantes.\n",
    "Imprimir la ultima variable\n",
    "-_"
   ]
  },
  {
   "cell_type": "code",
   "execution_count": 14,
   "id": "6bc7629f",
   "metadata": {},
   "outputs": [
    {
     "name": "stdout",
     "output_type": "stream",
     "text": [
      "130\n",
      "105\n"
     ]
    }
   ],
   "source": [
    "#suma\n",
    "cantidad_de_manzanas = 100\n",
    "cantidad_de_naranjas = 30\n",
    "cantidad_de_frutas = cantidad_de_manzanas + cantidad_de_naranjas\n",
    "print(cantidad_de_frutas)\n",
    "#resta\n",
    "frutas_vendidas = 25\n",
    "frutas_restantes = cantidad_de_frutas - frutas_vendidas\n",
    "print (frutas_restantes)\n"
   ]
  },
  {
   "cell_type": "code",
   "execution_count": 29,
   "id": "14284421",
   "metadata": {},
   "outputs": [
    {
     "name": "stdout",
     "output_type": "stream",
     "text": [
      "Nicole Borja\n",
      "Nicole Borja\n",
      "hola, mi nombre es: Nicole Borja\n",
      "hola, mi nombre es: Nicole Borja\n",
      "hola, mi nombre es: Nicole Borja\n"
     ]
    }
   ],
   "source": [
    "nombre = \"Nicole\"\n",
    "apellido = \"Borja\"\n",
    "nombre_completo = nombre + ' ' + apellido\n",
    "print (nombre_completo)\n",
    "\n",
    "#concatenar\n",
    "print (nombre + ' ' + apellido)\n",
    "print ('hola, mi nombre es: '+ nombre + ' ' + apellido)\n",
    "print (f\"hola, mi nombre es: {nombre} {apellido}\")\n",
    "print ('hola, mi nombre es:' , nombre_completo)"
   ]
  },
  {
   "cell_type": "markdown",
   "id": "e65dd041",
   "metadata": {},
   "source": [
    "Asignar el nombre y el apellido de tu compañera/o a las variables nombre y apellido. Luego, imprimir una frase, utilizando las variables.\n",
    "EJEMPLO: \"Hola. Me llamo Claudia Melgarejo. Mucho gusto.\""
   ]
  },
  {
   "cell_type": "code",
   "execution_count": 22,
   "id": "2495d0fa",
   "metadata": {},
   "outputs": [
    {
     "name": "stdout",
     "output_type": "stream",
     "text": [
      "hola, me llamo Marcelo Amarilla, un placer\n"
     ]
    }
   ],
   "source": [
    "nombre = \"Marcelo\"\n",
    "apellido = \"Amarilla\"\n",
    "print (f\"hola, me llamo {nombre} {apellido}, un placer\")"
   ]
  },
  {
   "cell_type": "code",
   "execution_count": 24,
   "id": "24db073c",
   "metadata": {},
   "outputs": [],
   "source": [
    "#input\n",
    "\n",
    "numero1 = int(input(\"dame un numero\"))"
   ]
  },
  {
   "cell_type": "markdown",
   "id": "c6201cc6",
   "metadata": {},
   "source": [
    "Solicitar al usuario ingresar dos números y almacenarlos en dos variables. Luego, imprimir la suma de los dos números."
   ]
  },
  {
   "cell_type": "code",
   "execution_count": null,
   "id": "9081ae3c",
   "metadata": {},
   "outputs": [
    {
     "name": "stdout",
     "output_type": "stream",
     "text": [
      "60\n"
     ]
    }
   ],
   "source": [
    "numero1 = input(\"quiero un numero\")\n",
    "numero2 = input(\"quiero otro numero\")\n",
    "#cambiar/covertir formato de letras a numeros con int\n",
    "resultados = int(numero1) + int(numero2)\n",
    "print (resultados)\n",
    "\n"
   ]
  },
  {
   "cell_type": "code",
   "execution_count": 8,
   "id": "d340db45",
   "metadata": {},
   "outputs": [
    {
     "name": "stdout",
     "output_type": "stream",
     "text": [
      "abrir el pan\n",
      "agregar el jamon\n",
      "agregar el queso\n",
      "cerrar el pan\n",
      "listo\n"
     ]
    }
   ],
   "source": [
    "def preparar_sandwich ():\n",
    "    print('abrir el pan')\n",
    "    print('agregar el jamon')\n",
    "    print('agregar el queso')\n",
    "    print('cerrar el pan')\n",
    "    print('listo')\n",
    "preparar_sandwich()\n"
   ]
  },
  {
   "cell_type": "markdown",
   "id": "e0fd61eb",
   "metadata": {},
   "source": [
    "Crear una función de un proceso que se les ocurra que tenga varios pasos.\n",
    "Ejecutar la función 3 veces."
   ]
  },
  {
   "cell_type": "code",
   "execution_count": 17,
   "id": "b1593b46",
   "metadata": {},
   "outputs": [
    {
     "name": "stdout",
     "output_type": "stream",
     "text": [
      "encontrar al gato\n",
      "agarrar al gato\n",
      "abrir la ducha\n",
      "poner shampoo al gato\n",
      "enjuagar al gato\n",
      "secar al gato\n",
      "liberar al gato\n",
      "mision cumplida, gatito limpito\n",
      " \n",
      "encontrar al gato\n",
      "agarrar al gato\n",
      "abrir la ducha\n",
      "poner shampoo al gato\n",
      "enjuagar al gato\n",
      "secar al gato\n",
      "liberar al gato\n",
      "mision cumplida, gatito limpito\n",
      " \n",
      "encontrar al gato\n",
      "agarrar al gato\n",
      "abrir la ducha\n",
      "poner shampoo al gato\n",
      "enjuagar al gato\n",
      "secar al gato\n",
      "liberar al gato\n",
      "mision cumplida, gatito limpito\n",
      " \n"
     ]
    }
   ],
   "source": [
    "def limpiar_gato ():\n",
    "    #indentacion\n",
    "    print ('encontrar al gato')\n",
    "    print ('agarrar al gato')\n",
    "    print ('abrir la ducha')\n",
    "    print ('poner shampoo al gato')\n",
    "    print ('enjuagar al gato')\n",
    "    print ('secar al gato')\n",
    "    print ('liberar al gato')\n",
    "    \n",
    "    print ('mision cumplida, gatito limpito')\n",
    "    print (\" \")\n",
    " \n",
    "limpiar_gato()\n",
    "\n",
    "limpiar_gato()\n",
    "\n",
    "limpiar_gato()"
   ]
  },
  {
   "cell_type": "code",
   "execution_count": 19,
   "id": "6db6e597",
   "metadata": {},
   "outputs": [
    {
     "name": "stdout",
     "output_type": "stream",
     "text": [
      "abrir el pan\n",
      "agregar huevo\n",
      "cerrar el pan\n",
      "listo!\n",
      " \n",
      "abrir el pan\n",
      "agregar tomate y lechuga\n",
      "cerrar el pan\n",
      "listo!\n",
      " \n"
     ]
    }
   ],
   "source": [
    "def preparar_sandwich (ingrediente):\n",
    "    print('abrir el pan')\n",
    "    print(f'agregar {ingrediente}')\n",
    "    print('cerrar el pan')\n",
    "    print('listo!')\n",
    "    print (' ')\n",
    "\n",
    "preparar_sandwich(\"huevo\")\n",
    "preparar_sandwich(\"tomate y lechuga\")"
   ]
  },
  {
   "cell_type": "markdown",
   "id": "3ca1c65a",
   "metadata": {},
   "source": [
    "Escribir una funcion que nos pregunte las caracteriticas de un elemento a comprar e imprima el elemento con sus caracteristicas."
   ]
  },
  {
   "cell_type": "code",
   "execution_count": 30,
   "id": "6eb1d30b",
   "metadata": {},
   "outputs": [
    {
     "name": "stdout",
     "output_type": "stream",
     "text": [
      "buscar informacion\n",
      "caracteristicas de la bici: color\n",
      "realizar compra\n",
      " \n",
      "buscar informacion\n",
      "caracteristicas de la bici: size\n",
      "realizar compra\n",
      " \n",
      "buscar informacion\n",
      "caracteristicas de la bici: modelo\n",
      "realizar compra\n",
      " \n",
      "buscar informacion\n",
      "caracteristicas de la bici: precios\n",
      "realizar compra\n",
      " \n"
     ]
    }
   ],
   "source": [
    "def comprar_bicibleta (caracteristicas):\n",
    "    print ('buscar informacion')\n",
    "    print (f\"caracteristicas de la bici: {caracteristicas}\")\n",
    "    print ('realizar compra')\n",
    "    print (' ')\n",
    "\n",
    "comprar_bicibleta ('color')\n",
    "comprar_bicibleta ('size')\n",
    "comprar_bicibleta ('modelo')\n",
    "comprar_bicibleta ('precios')\n",
    "\n",
    "\n",
    "\n"
   ]
  },
  {
   "cell_type": "code",
   "execution_count": 2,
   "id": "3ef0c5c8",
   "metadata": {},
   "outputs": [
    {
     "name": "stdout",
     "output_type": "stream",
     "text": [
      "Estoy cocinando carne\n"
     ]
    }
   ],
   "source": [
    "def preparar_comida():\n",
    "    ingrediente = \"carne\"\n",
    "    print (f\"Estoy cocinando {ingrediente}\")\n",
    "\n",
    "preparar_comida()"
   ]
  },
  {
   "cell_type": "code",
   "execution_count": null,
   "id": "42551135",
   "metadata": {},
   "outputs": [],
   "source": [
    "def saludo_bienvenida (nombre):"
   ]
  }
 ],
 "metadata": {
  "kernelspec": {
   "display_name": "Python 3",
   "language": "python",
   "name": "python3"
  },
  "language_info": {
   "codemirror_mode": {
    "name": "ipython",
    "version": 3
   },
   "file_extension": ".py",
   "mimetype": "text/x-python",
   "name": "python",
   "nbconvert_exporter": "python",
   "pygments_lexer": "ipython3",
   "version": "3.13.3"
  }
 },
 "nbformat": 4,
 "nbformat_minor": 5
}
