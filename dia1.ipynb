{
 "cells": [
  {
   "cell_type": "markdown",
   "id": "54abeb8e",
   "metadata": {},
   "source": [
    "# Python\n",
    "## Python\n",
    "\n",
    "es un lenguaje de programación de alto nivel, versátil y fácil de aprender, ideal para una amplia gama de aplicaciones, desde desarrollo web y software hasta ciencia de datos y aprendizaje automático. Se caracteriza por su sintaxis clara y legible, lo que facilita la escritura y lectura del código. \n"
   ]
  },
  {
   "cell_type": "code",
   "execution_count": 10,
   "id": "91e3f452",
   "metadata": {},
   "outputs": [
    {
     "name": "stdout",
     "output_type": "stream",
     "text": [
      "Hola Mundo\n"
     ]
    }
   ],
   "source": [
    "print(\"Hola Mundo\")"
   ]
  },
  {
   "cell_type": "code",
   "execution_count": 13,
   "id": "f51c8119",
   "metadata": {},
   "outputs": [
    {
     "name": "stdout",
     "output_type": "stream",
     "text": [
      "Nicole\n",
      "Borja\n"
     ]
    }
   ],
   "source": [
    "nombre = \"Nicole\"\n",
    "apellido = \"Borja\"\n",
    "print (nombre)\n",
    "print (apellido)\n"
   ]
  },
  {
   "cell_type": "code",
   "execution_count": null,
   "id": "93de6bfb",
   "metadata": {},
   "outputs": [],
   "source": [
    "precio_total = 15000 + 20000"
   ]
  },
  {
   "cell_type": "markdown",
   "id": "48a6b562",
   "metadata": {},
   "source": [
    "suma : asignar dos numeros en dos variables diferentes cantidad_de_manzanas y cantidad_de_naranjas. Luego sumar ambas variables en cantidad_de_frutas imprimir la ultima variable.\n",
    "Resta: asignar un valor numerico a la variable frutas_vendidas. Luego asignar la resta entre cantidad_de_frutas y frutas_vendidas a la variable frutas_restantes.\n",
    "Imprimir la ultima variable\n",
    "-_"
   ]
  },
  {
   "cell_type": "code",
   "execution_count": 24,
   "id": "6bc7629f",
   "metadata": {},
   "outputs": [
    {
     "ename": "TypeError",
     "evalue": "'int' object is not callable",
     "output_type": "error",
     "traceback": [
      "\u001b[31m---------------------------------------------------------------------------\u001b[39m",
      "\u001b[31mTypeError\u001b[39m                                 Traceback (most recent call last)",
      "\u001b[36mCell\u001b[39m\u001b[36m \u001b[39m\u001b[32mIn[24]\u001b[39m\u001b[32m, line 5\u001b[39m\n\u001b[32m      3\u001b[39m cantidad_de_naranjas = \u001b[32m30\u001b[39m\n\u001b[32m      4\u001b[39m cantidad_de_frutas = cantidad_de_manzanas + cantidad_de_naranjas\n\u001b[32m----> \u001b[39m\u001b[32m5\u001b[39m \u001b[38;5;28;43mprint\u001b[39;49m\u001b[43m(\u001b[49m\u001b[43mcantidad_de_frutas\u001b[49m\u001b[43m)\u001b[49m\n",
      "\u001b[31mTypeError\u001b[39m: 'int' object is not callable"
     ]
    }
   ],
   "source": [
    "#suma\n",
    "cantidad_de_manzanas = 20\n",
    "cantidad_de_naranjas = 30\n",
    "cantidad_de_frutas = cantidad_de_manzanas + cantidad_de_naranjas\n",
    "print(cantidad_de_frutas)\n",
    "\n"
   ]
  }
 ],
 "metadata": {
  "kernelspec": {
   "display_name": "Python 3",
   "language": "python",
   "name": "python3"
  },
  "language_info": {
   "codemirror_mode": {
    "name": "ipython",
    "version": 3
   },
   "file_extension": ".py",
   "mimetype": "text/x-python",
   "name": "python",
   "nbconvert_exporter": "python",
   "pygments_lexer": "ipython3",
   "version": "3.13.3"
  }
 },
 "nbformat": 4,
 "nbformat_minor": 5
}
