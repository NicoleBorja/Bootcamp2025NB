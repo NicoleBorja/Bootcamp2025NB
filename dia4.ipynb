{
 "cells": [
  {
   "cell_type": "code",
   "execution_count": 1,
   "id": "69887033",
   "metadata": {},
   "outputs": [
    {
     "name": "stdout",
     "output_type": "stream",
     "text": [
      "{'nombre': 'Laura', 'apellido': 'Gomez', 'celular': '992345678', 'edad': '25'}\n"
     ]
    }
   ],
   "source": [
    "#diccionario\n",
    "mi_contacto = {'nombre':'Laura','apellido': 'Gomez','celular': '992345678', 'edad':'25'}\n",
    "print (mi_contacto)"
   ]
  },
  {
   "cell_type": "code",
   "execution_count": null,
   "id": "3606d881",
   "metadata": {},
   "outputs": [],
   "source": [
    "{\n",
    "    'nombre':'Laura',\n",
    "    'apellido': 'Gomez',\n",
    "    'celular': '992345678', \n",
    "    'edad':'25'\n",
    "}"
   ]
  },
  {
   "cell_type": "code",
   "execution_count": 5,
   "id": "ca7f78e6",
   "metadata": {},
   "outputs": [
    {
     "name": "stdout",
     "output_type": "stream",
     "text": [
      "{'nombre': 'Laura', 'apellido': 'Gomez', 'celular': '992345678', 'edad': '25', 'direccion': 'Sacramento-Edificio DOT'}\n",
      "{'nombre': 'Laura', 'apellido': 'Gomez', 'celular': 911187564, 'edad': '25', 'direccion': 'Sacramento-Edificio DOT'}\n",
      "{'nombre': 'Laura', 'apellido': 'Gomez', 'celular': 911187564, 'edad': '25'}\n",
      "{'nombre': 'Laura', 'apellido': 'Gomez', 'celular': 911187564}\n"
     ]
    }
   ],
   "source": [
    "#acceder a datos del diccionario\n",
    "mi_contacto['nombre']\n",
    "\n",
    "#desplegar datos del diccionario\n",
    "mi_contacto.keys()\n",
    "mi_contacto.values()\n",
    "mi_contacto.items()\n",
    "\n",
    "#actualizar datos del diccionario\n",
    "mi_contacto['direccion'] = 'Sacramento-Edificio DOT'\n",
    "print(mi_contacto)\n",
    "\n",
    "#modificar\n",
    "mi_contacto['celular']= 911187564\n",
    "print(mi_contacto)\n",
    "\n",
    "#eliminar ultimo par\n",
    "mi_contacto.popitem()\n",
    "print(mi_contacto)\n",
    "\n",
    "#borrar un elemento o valor especifico\n",
    "del mi_contacto['edad']\n",
    "print(mi_contacto)\n"
   ]
  },
  {
   "cell_type": "markdown",
   "id": "6eb1aa87",
   "metadata": {},
   "source": [
    "# Challenge 1 🤺\n",
    "\n",
    "Escribir un programa que cree un diccionario vacío y lo vaya llenado con información sobre una persona (por ejemplo nombre, edad, sexo, teléfono, correo electrónico, etc.) que se le pida al usuario. Cada vez que se añada un nuevo dato debe imprimirse el contenido del diccionario."
   ]
  },
  {
   "cell_type": "code",
   "execution_count": null,
   "id": "2f27a755",
   "metadata": {},
   "outputs": [
    {
     "name": "stdout",
     "output_type": "stream",
     "text": [
      "{'nombre': 'nicole'}\n",
      "{'nombre': 'nicole', 'edad': 'fsfsg'}\n",
      "{'nombre': 'nicole', 'edad': 'fsfsg', 'genero': 'df'}\n",
      "{'nombre': 'nicole', 'edad': 'fsfsg', 'genero': 'df', 'telefono': 'sdf'}\n",
      "{'nombre': 'nicole', 'edad': 'fsfsg', 'genero': 'df', 'telefono': 'sdf', 'correo': 'fs'}\n",
      "{'nombre': 'nicole', 'edad': 'fsfsg', 'genero': 'df', 'telefono': 'sdf', 'correo': 'fs', 'direccion': ''}\n"
     ]
    }
   ],
   "source": [
    "#Escribir un programa que cree un diccionario vacio y llene informacion sobre una persona\n",
    "#pedir al usuario \n",
    "#cada vez que el usuario ingrese un dato, se debe imprimir\n",
    "\n",
    "datos_usuario = {}\n",
    "\n",
    "\n",
    "datos_usuario ['nombre'] = input(\"ingrese su nombre\")\n",
    "print(datos_usuario)\n",
    "\n",
    "datos_usuario ['edad'] = input(\"ingrese su edad\")\n",
    "print(datos_usuario)\n",
    "\n",
    "datos_usuario ['genero'] = input(\"ingrese el genero con el que mas se identifica\")\n",
    "print(datos_usuario)\n",
    "\n",
    "datos_usuario ['telefono'] = int(input(\"ingrese su numero de celular\"))\n",
    "print(datos_usuario)\n",
    "\n",
    "datos_usuario ['correo'] = input(\"ingrese su correo electronico\")\n",
    "print(datos_usuario)\n",
    "\n",
    "datos_usuario ['direccion'] = input(\"ingrese la direccion de su domicilio\")\n",
    "print(datos_usuario)\n",
    "\n",
    "\n"
   ]
  },
  {
   "cell_type": "markdown",
   "id": "32c36974",
   "metadata": {},
   "source": [
    "# Challenge 2 🤺\n",
    "\n",
    "Crear una tarjeta personal. El usuario (mediante input) puede elegir:\n",
    "\n",
    "Crear datos nuevos\n",
    "\n",
    "Modificar datos\n",
    "\n",
    "Eliminar datos"
   ]
  },
  {
   "cell_type": "code",
   "execution_count": null,
   "id": "6adcc8df",
   "metadata": {},
   "outputs": [],
   "source": []
  },
  {
   "cell_type": "code",
   "execution_count": null,
   "id": "e0929bdb",
   "metadata": {},
   "outputs": [
    {
     "name": "stdout",
     "output_type": "stream",
     "text": [
      "{'nombre': 'NICOLEASDSDAG', 'edad': 26, 'telefono': 13223, 'correo': 'NICOLSA'}\n",
      "SI\n",
      "{'nombre': 'NICOLEASDSDAG', 'edad': 26, 'telefono': 13223, 'correo': 'NICOLSA'}\n"
     ]
    }
   ],
   "source": [
    "#crear una tarjeta personal\n",
    "datos_usuario = {}\n",
    "\n",
    "datos_usuario ['nombre'] = input(\"ingrese su nombre completo\")\n",
    "\n",
    "datos_usuario ['edad'] = int(input(\"ingrese su edad en numeros\"))\n",
    "\n",
    "datos_usuario ['telefono'] = int(input(\"ingrese su numero de celular\"))\n",
    "\n",
    "datos_usuario ['correo'] = input(\"ingrese su correo electronico\")\n",
    "#quiero que imprima los datos ingresados\n",
    "print(datos_usuario)\n",
    "\n",
    "#una vez impreso, preguntar al usuario si sus datos estan correctos \n",
    "datos = input('Todos los datos ingresados son correctos? responda con SI o NO')\n",
    "print(datos)\n",
    "\n",
    "def opcion1 (crear_nuevo):\n",
    "\n",
    "#si esta todo correcto, se cierra   \n",
    "while datos == 'SI':\n",
    "    print(datos_usuario)\n",
    "    break\n",
    "#si quiere hacer alguna accion, que seleccione cual\n",
    "if datos == 'NO':\n",
    "    print (input('Cuales de estas acciones desea realizar?, Elige opcion'))\n",
    "\n",
    "\n",
    "    "
   ]
  },
  {
   "cell_type": "code",
   "execution_count": null,
   "id": "54506545",
   "metadata": {},
   "outputs": [],
   "source": [
    "tarjeta_personal = {}\n",
    "'''\n",
    "El usuario tiene que seleccionar cualquiera de las 3 opciones\n",
    "1- crear\n",
    "2- modificar\n",
    "3- eliminar\n",
    "'''\n",
    "while True:\n",
    "    seleccion = int(input('ingrese una opcion: 1- crear 2- Modificar 3- Eliminar'))\n",
    "    if seleccion == 1:\n",
    "        clave = input('ingrese la clave')\n",
    "        valor = input('ingrese el valor')\n",
    "        tarjeta_personal[clave] = valor\n",
    "        print(tarjeta_personal)\n",
    "\n",
    "    elif seleccion == 2:\n",
    "        tarjeta_personal.keys()\n",
    "        clave = input('ingrese la clave')\n",
    "        valor = input('ingrese el valor')\n",
    "        tarjeta_personal[clave] = valor\n",
    "        print(tarjeta_personal)\n",
    "\n",
    "    elif  seleccion == 3:\n",
    "        tarjeta_personal.keys()\n",
    "        clave = input('ingrese la clave a eliminar')\n",
    "        del tarjeta_personal[clave]\n",
    "\n",
    "    elif  seleccion == 4:\n",
    "        print('Gracias por todo')\n",
    "        break\n",
    "\n",
    "    else:\n",
    "        print()"
   ]
  },
  {
   "cell_type": "markdown",
   "id": "1e29bd57",
   "metadata": {},
   "source": [
    "# Challenge 3 🤺\n",
    "\n",
    "Crear una agenda de contactos. El usuario puede elegir\n",
    "\n",
    "1 Mostrar los contactos\n",
    "\n",
    "2 Crear contactos\n",
    "\n",
    "3 Modificar contactos"
   ]
  },
  {
   "cell_type": "code",
   "execution_count": null,
   "id": "252d627f",
   "metadata": {},
   "outputs": [
    {
     "ename": "AttributeError",
     "evalue": "'dict' object has no attribute 'append'",
     "output_type": "error",
     "traceback": [
      "\u001b[31m---------------------------------------------------------------------------\u001b[39m",
      "\u001b[31mAttributeError\u001b[39m                            Traceback (most recent call last)",
      "\u001b[36mCell\u001b[39m\u001b[36m \u001b[39m\u001b[32mIn[33]\u001b[39m\u001b[32m, line 8\u001b[39m\n\u001b[32m      5\u001b[39m dato = \u001b[38;5;28minput\u001b[39m(\u001b[33m\"\u001b[39m\u001b[33mingrese su nombre\u001b[39m\u001b[33m\"\u001b[39m)\n\u001b[32m      6\u001b[39m edad  = \u001b[38;5;28mint\u001b[39m(\u001b[38;5;28minput\u001b[39m(\u001b[33m'\u001b[39m\u001b[33mingrese su edad en numeros\u001b[39m\u001b[33m'\u001b[39m))\n\u001b[32m----> \u001b[39m\u001b[32m8\u001b[39m \u001b[43mmi_agenda\u001b[49m\u001b[43m.\u001b[49m\u001b[43mappend\u001b[49m({mis_contactos})\n",
      "\u001b[31mAttributeError\u001b[39m: 'dict' object has no attribute 'append'"
     ]
    }
   ],
   "source": [
    "#crear la agenda vacia y que el usuario vaya agregando los datos\n",
    "mis_contactos = {}\n",
    "mi_agenda = {}\n",
    "\n",
    "dato = input(\"ingrese su nombre\")\n",
    "edad  = int(input('ingrese su edad en numeros'))\n",
    "\n",
    "mi_agenda. ({mis_contactos})\n",
    "\n",
    "\n"
   ]
  },
  {
   "cell_type": "markdown",
   "id": "93f0e9f8",
   "metadata": {},
   "source": []
  },
  {
   "cell_type": "code",
   "execution_count": 34,
   "id": "ba683366",
   "metadata": {},
   "outputs": [
    {
     "name": "stdout",
     "output_type": "stream",
     "text": [
      "2 2\n"
     ]
    }
   ],
   "source": [
    "class Humano:\n",
    "    ojos= 2\n",
    "    brazos = 2\n",
    "\n",
    "eduardo = Humano()\n",
    "\n",
    "print(eduardo.ojos, eduardo.brazos)\n"
   ]
  },
  {
   "cell_type": "code",
   "execution_count": null,
   "id": "f952c52d",
   "metadata": {},
   "outputs": [
    {
     "name": "stdout",
     "output_type": "stream",
     "text": [
      "delmer marron\n"
     ]
    }
   ],
   "source": [
    "class Perro:\n",
    "    #atributos de clase: comunes\n",
    "    ojos = 2\n",
    "    patas = 4\n",
    "#bloque constructor es el init\n",
    "#self\n",
    "    def __init__(self, color, raza):\n",
    "        #atributos de instancia: los que diferencian\n",
    "        self.color = color\n",
    "        self.raza = raza\n",
    "\n",
    "yuwailer = Perro('marron','delmer')\n",
    "print(yuwailer.raza, yuwailer.color)"
   ]
  },
  {
   "cell_type": "code",
   "execution_count": 36,
   "id": "336ecdb7",
   "metadata": {},
   "outputs": [
    {
     "name": "stdout",
     "output_type": "stream",
     "text": [
      "camina dando saltos\n"
     ]
    }
   ],
   "source": [
    "class Perro:\n",
    "    ojos = 2\n",
    "    patas = 4\n",
    "#atributo de instancia\n",
    "    def __init__(self, color, raza):\n",
    "        self.color = color\n",
    "        self.raza = raza\n",
    "#metodos - acciones que realizan nuestros objetos\n",
    "    def ladrido(self):\n",
    "        print('guau guau')\n",
    "\n",
    "    def caminar(self):\n",
    "        return('camina dando saltos')\n",
    "\n",
    "yuwailer= Perro('negro', 'caniche')\n",
    "print(yuwailer.caminar())\n"
   ]
  },
  {
   "cell_type": "markdown",
   "id": "054df654",
   "metadata": {},
   "source": [
    "# Challenge 4🤺\n",
    "Crear dos métodos para nuestro animal y ejecutar, debe ser algo específico de ese animal.\n",
    "\n",
    "Ejemplo: \"Cuando hablo, digo X\".\n",
    "\n",
    "Ejemplo: \"Cuando me muevo, hago X\"."
   ]
  },
  {
   "cell_type": "code",
   "execution_count": null,
   "id": "8febda96",
   "metadata": {},
   "outputs": [
    {
     "name": "stdout",
     "output_type": "stream",
     "text": [
      "caminata lenta   guau\n"
     ]
    }
   ],
   "source": [
    "class Perro:\n",
    "    def __init__(self, habla, movimiento):\n",
    "        self.habla = habla\n",
    "        self.movimiento = movimiento\n",
    "    def ladra(self):\n",
    "        return('guau')\n",
    "    def camina(self):\n",
    "        return('caminata lenta')\n",
    "\n",
    "pingu = Perro('hola', 'salta y gira')\n",
    "print(pingu.camina(), pingu.ladra())"
   ]
  },
  {
   "cell_type": "code",
   "execution_count": 48,
   "id": "b28e6e04",
   "metadata": {},
   "outputs": [],
   "source": [
    "class Gato:\n",
    "    #atributo de clase\n",
    "    patas = 4\n",
    "    orejas = 2\n",
    "    cola = 1\n",
    "    #atributos de instancia\n",
    "    def __init__(self, color, raza):\n",
    "        #por buenas practicas debe ser descriptivo\n",
    "        #self.amarillo = color\n",
    "        #self.delmer = raza\n",
    "        self.color = color\n",
    "        self.raza = raza\n",
    "\n",
    "    #Metodos\n",
    "    def saltar (self):\n",
    "        return('estoy saltando')\n",
    "\n",
    "#instanciar, crear el objeto\n",
    "Miso = Perro('naranja', 'delmer')\n"
   ]
  },
  {
   "cell_type": "code",
   "execution_count": 68,
   "id": "332964e8",
   "metadata": {},
   "outputs": [],
   "source": [
    "class Gato():\n",
    "    orejas =2 \n",
    "    patas=4\n",
    "    tipo = \"felino\"\n",
    "\n",
    "    def __init__(self, color, tamanho):\n",
    "        self.color = color\n",
    "        self.tamanho = tamanho\n",
    "\n",
    "    def maulla(self):\n",
    "        return ('Holaa(en miau)')\n",
    "    def sonido(self):\n",
    "        return('Ronronea fuerte')\n",
    "    def salta(self):\n",
    "        return ('Saltaa alto')\n",
    "\n",
    "    \n"
   ]
  },
  {
   "cell_type": "code",
   "execution_count": 70,
   "id": "16ac34e0",
   "metadata": {},
   "outputs": [
    {
     "data": {
      "text/plain": [
       "'juega con la pelota'"
      ]
     },
     "execution_count": 70,
     "metadata": {},
     "output_type": "execute_result"
    }
   ],
   "source": [
    "#Herencia\n",
    "# \n",
    "class Gatito(Gato):\n",
    "    cola = 1\n",
    "\n",
    "    def jugar (self):\n",
    "        return'juega con la pelota'\n",
    "    \n",
    "michi = Gatito ('gris', 'pequenho')\n",
    "\n",
    "michi.maulla()\n",
    "michi.jugar()\n",
    "\n"
   ]
  },
  {
   "cell_type": "markdown",
   "id": "272c31ff",
   "metadata": {},
   "source": [
    "# Challenge 5 🤺\n",
    "Definir una clase madre que herede a sus clases hijas dos atributos de instancia. Mostrar ambos atributos en pantalla desde los objetos de las clases hijas.\n",
    "\n",
    "Observación: Editar las clases hijas para que no se inicialicen."
   ]
  },
  {
   "cell_type": "code",
   "execution_count": 84,
   "id": "07b84212",
   "metadata": {},
   "outputs": [
    {
     "name": "stdout",
     "output_type": "stream",
     "text": [
      "rubio\n"
     ]
    },
    {
     "data": {
      "text/plain": [
       "'guarani'"
      ]
     },
     "execution_count": 84,
     "metadata": {},
     "output_type": "execute_result"
    }
   ],
   "source": [
    "class Papa:\n",
    "    ojos = 2\n",
    "    cabeza = 1\n",
    "\n",
    "    def __init__(self, color_cabello, tez):\n",
    "        self.color_cabello = color_cabello\n",
    "        self.tez = tez\n",
    "    \n",
    "    def nacionalidad (self):\n",
    "        return('paraguayo')\n",
    "    def color_de_piel (self):\n",
    "        return('tez morena')\n",
    "    \n",
    "jose = Papa ('rubio', 'moreno')\n",
    "print(jose.color_cabello)\n",
    "\n",
    "class Hija(Papa):\n",
    "\n",
    "    idioma = 'guarani'\n",
    "def lengua (self):\n",
    "    return('bilingue')\n",
    "\n",
    "laura = Hija ('color_cabello', 'lengua')\n",
    "\n",
    "laura.color_de_piel()\n",
    "laura.idioma\n",
    "    "
   ]
  }
 ],
 "metadata": {
  "kernelspec": {
   "display_name": "Python 3",
   "language": "python",
   "name": "python3"
  },
  "language_info": {
   "codemirror_mode": {
    "name": "ipython",
    "version": 3
   },
   "file_extension": ".py",
   "mimetype": "text/x-python",
   "name": "python",
   "nbconvert_exporter": "python",
   "pygments_lexer": "ipython3",
   "version": "3.13.3"
  }
 },
 "nbformat": 4,
 "nbformat_minor": 5
}
