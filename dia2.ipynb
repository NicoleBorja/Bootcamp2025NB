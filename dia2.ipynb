{
 "cells": [
  {
   "cell_type": "markdown",
   "id": "eb9237d9",
   "metadata": {},
   "source": [
    "Escribe un programa que pregunte al usuario por su edad y determine si tiene edad suficiente para comprar y consumir alcohol.\n",
    "Si el usuario tiene mas de 18 pero menos de 21 impirmir \"Podes tomar pero no comprar\"\n",
    "Si el usuario tiene menos de 18 imprimir \"Juguito nomas\"\n",
    "Si el usuario tiene mas de 21 imprimir \"Hace lo que quieras\""
   ]
  },
  {
   "cell_type": "code",
   "execution_count": 15,
   "id": "3bc29288",
   "metadata": {},
   "outputs": [
    {
     "name": "stdout",
     "output_type": "stream",
     "text": [
      "Podes tomar pero no comprar\n"
     ]
    }
   ],
   "source": [
    "edad = int (input (\"ingrese su edad\"))\n",
    "if edad < 18:\n",
    "    print(\"Juguito nomas\")\n",
    "\n",
    "\n",
    "elif edad > 21:\n",
    "    print(\"Hace lo que quieras\")\n",
    "\n",
    "else :\n",
    "    print(\"Podes tomar pero no comprar\")\n",
    "\n",
    "\n"
   ]
  },
  {
   "cell_type": "code",
   "execution_count": null,
   "id": "7552d1f1",
   "metadata": {},
   "outputs": [],
   "source": [
    "def chequear_edad (edad_laboral, trabaja):\n",
    "    if edad_laboral < 18:\n",
    "        print('estudiante')\n",
    "    elif edad_laboral < 65 and trabaja == True:\n",
    "        print('activo laboralmente')\n",
    "    elif edad_laboral < 65 and trabaja == False:\n",
    "        print('desempleado')\n",
    "    else:\n",
    "        print('jubilado')\n",
    "\n",
    "chequear_edad(30, False)"
   ]
  },
  {
   "cell_type": "markdown",
   "id": "ba536af3",
   "metadata": {},
   "source": [
    "Escribir un programa en el que se pregunte al usuario por una temperatura (en grados Celsius), imprima la temperatura escrita, y luego clasificar la temperatura ingresada en los siguientes niveles:\n",
    "\n",
    "Entre -10 y 18 grados, que imprima \"Fresquete\".\n",
    "Entre 19 y 30 grados, que imprima \"Calor'i\".\n",
    "Entre 31 y 45 grados, que imprima \"Hakuuuuuu\".\n",
    "Para todo lo demás, imprimir \"Ñamano mba'e!\"."
   ]
  },
  {
   "cell_type": "code",
   "execution_count": 24,
   "id": "8ffcbfe9",
   "metadata": {},
   "outputs": [
    {
     "name": "stdout",
     "output_type": "stream",
     "text": [
      "La temperatura es de -11 °C\n",
      "Ñamano mba'e!\n"
     ]
    }
   ],
   "source": [
    "#paso 1 comprender el ejercicio y dividir en partes\n",
    "# hacer un codigo que pregunte la temperatura y la imprima\n",
    "\n",
    "temperatura = int ( input ('introducir temperatura en °C'))\n",
    "print (f\"La temperatura es de {temperatura} °C\")\n",
    "\n",
    "#clasificar las temperaturas\n",
    "# Si la temperatura es igual o mayor a -10 y menor o igual a 18 entonces imprimo \"Fresquete\"\n",
    "# Si la temperatura es igual o mayor a 19 y menor o igual a 30 entonces imprimo \"Calor'i\"\n",
    "# Si la temperatura es igual o mayor a 31 y menor o igual a 45 entonces imprimo \"Hakuuuuuu\"\n",
    "# y por ultimo, todos los numeros que no esten en estos rangos, se imprime el mensaje \"Ñamano mba'e!\"\n",
    "\n",
    "if temperatura >= -10 and temperatura <= 18:\n",
    "    print ('Fresquete')\n",
    "elif temperatura >= 19 and temperatura <=30:\n",
    "    print ('Calor`i')\n",
    "elif temperatura >=31 and temperatura <=45:\n",
    "    print ('Hakuuuuuuu')\n",
    "else:\n",
    "    print(\"Ñamano mba'e!\")\n"
   ]
  },
  {
   "cell_type": "code",
   "execution_count": null,
   "id": "b5d061e1",
   "metadata": {},
   "outputs": [],
   "source": [
    "numero = 10\n",
    "while True:\n",
    "    numero_ingresado = int(input('Introduce un numero'))\n",
    "    if numero_ingresado == numero:\n",
    "        print ('El numero es correcto')\n",
    "    break\n"
   ]
  },
  {
   "cell_type": "markdown",
   "id": "55550110",
   "metadata": {},
   "source": [
    "Escribir un programa que almacene una contraseña en una variable, y pregunte al usuario por la contraseña hasta que introduzca la contraseña correcta.\n",
    "\n",
    "Cuando el usuario ingrese la contrasena correcta, imprimir un mensaje secreto"
   ]
  },
  {
   "cell_type": "code",
   "execution_count": 33,
   "id": "e3a1d4fc",
   "metadata": {},
   "outputs": [
    {
     "name": "stdout",
     "output_type": "stream",
     "text": [
      "contraseña correcta, lo lograste\n"
     ]
    }
   ],
   "source": [
    "#Escribir un programa que almacene una contraseña en una variable, y pregunte al usuario por la contraseña hasta que introduzca la contraseña\n",
    "#Cuando el usuario ingrese la contrasena correcta, imprimir un mensaje secreto.\n",
    "#Creo la contraseña por medio de una variable y le asigno un valor\n",
    "#Creo la variable que va a pedir la contrasena al usuario\n",
    "#Creo el bucle para pedir la contrasena\n",
    "\n",
    "contraseña = \"hola123\"\n",
    "\n",
    "while True:\n",
    "    constrasenha = input('introduzca una contraseña')\n",
    "    if constrasenha == contraseña:\n",
    "        print ('contraseña correcta, lo lograste')\n",
    "    \n",
    "        break\n",
    "\n",
    "\n",
    "    print ('intenta nuevamente')\n"
   ]
  },
  {
   "cell_type": "code",
   "execution_count": 35,
   "id": "f97357e0",
   "metadata": {},
   "outputs": [
    {
     "name": "stdout",
     "output_type": "stream",
     "text": [
      "contraseña correcta, lo lograste\n"
     ]
    }
   ],
   "source": [
    "contra = 123344\n",
    "\n",
    "while True:\n",
    "    constrasenha = int(input('introduzca una contraseña'))\n",
    "    if constrasenha == contra:\n",
    "        print ('contraseña correcta, lo lograste')\n",
    "    \n",
    "        break\n",
    "\n",
    "    \n",
    "    print ('intenta nuevamente') "
   ]
  },
  {
   "cell_type": "markdown",
   "id": "a09443bc",
   "metadata": {},
   "source": [
    "Crear una lista de 5 elementos. Luego, seguir los siguientes pasos.\n",
    "\n",
    "Agregar un elemento al final de la lista.\n",
    "\n",
    "Modificar el segundo elemento.\n",
    "\n",
    "Eliminar el tercer elemento."
   ]
  },
  {
   "cell_type": "code",
   "execution_count": 44,
   "id": "ee6a54e3",
   "metadata": {},
   "outputs": [
    {
     "name": "stdout",
     "output_type": "stream",
     "text": [
      "['jabon', 'toalla', 'papel', 'peine', 'shampoo']\n",
      "['jabon', 'toalla', 'papel', 'peine', 'shampoo', 'frutas']\n",
      "['jabon', 'fideos', 'papel', 'peine', 'shampoo', 'frutas']\n",
      "['jabon', 'fideos', 'papel', 'shampoo', 'frutas']\n"
     ]
    }
   ],
   "source": [
    "lista_de_compras = ['jabon','toalla', 'papel', 'peine', 'shampoo' ]\n",
    "print (lista_de_compras)\n",
    "lista_de_compras.append('frutas')\n",
    "print (lista_de_compras)\n",
    "lista_de_compras[1]='fideos'\n",
    "print (lista_de_compras)\n",
    "lista_de_compras.remove('peine')\n",
    "print (lista_de_compras)\n",
    "\n"
   ]
  },
  {
   "cell_type": "markdown",
   "id": "f8977039",
   "metadata": {},
   "source": [
    "Escribir un programa que itere en un rango de 10 veces. Por cada iteracion multiplicar el iterador por dos e imprimir el resultado."
   ]
  },
  {
   "cell_type": "code",
   "execution_count": 56,
   "id": "abd94d34",
   "metadata": {},
   "outputs": [
    {
     "name": "stdout",
     "output_type": "stream",
     "text": [
      "0*2:0\n",
      "1*2:2\n",
      "2*2:4\n",
      "3*2:6\n",
      "4*2:8\n",
      "5*2:10\n",
      "6*2:12\n",
      "7*2:14\n",
      "8*2:16\n",
      "9*2:18\n",
      "10*2:20\n"
     ]
    }
   ],
   "source": [
    "for tabla in range (11):\n",
    "    print(f\"{tabla}*2:{tabla*2}\")"
   ]
  },
  {
   "cell_type": "markdown",
   "id": "1f9df3d3",
   "metadata": {},
   "source": [
    "Recorrer los elementos de una lista de marcas e imprimir cada marca solamente si tiene 6 letras o más."
   ]
  },
  {
   "cell_type": "code",
   "execution_count": null,
   "id": "b27c29bb",
   "metadata": {},
   "outputs": [
    {
     "name": "stdout",
     "output_type": "stream",
     "text": [
      "adidas\n",
      "Topper\n",
      "abercrombie\n"
     ]
    }
   ],
   "source": [
    "#Crear una lista de marcas\n",
    "#recorer la lista\n",
    "#crear una condicion que imprima solo si el elemento(la palabra) tiene 6 letras o mas\n",
    "#imprimir solo los correctos\n",
    "\n",
    "lista_de_marcas = ['adidas', 'Nike', 'Topper', 'Lotto', 'Puma', 'Vans', 'abercrombie']\n",
    "\n",
    "for marca in lista_de_marcas :\n",
    "\n",
    "    if len(marca) >=6:\n",
    "    \n",
    "        print (marca)"
   ]
  },
  {
   "cell_type": "code",
   "execution_count": 4,
   "id": "9e93984a",
   "metadata": {},
   "outputs": [
    {
     "name": "stdout",
     "output_type": "stream",
     "text": [
      "s\n",
      "a\n",
      "l\n",
      "u\n",
      "d\n",
      "o\n",
      "s\n"
     ]
    }
   ],
   "source": [
    "for letra in 'saludos':\n",
    "    print(letra)"
   ]
  },
  {
   "cell_type": "markdown",
   "id": "e77c84a8",
   "metadata": {},
   "source": [
    "Solicitar al usuario que ingrese una frase\n",
    "\n",
    "Imprimir un mensaje cada vez que se encuentre una letra 0"
   ]
  },
  {
   "cell_type": "code",
   "execution_count": 8,
   "id": "20422315",
   "metadata": {},
   "outputs": [
    {
     "name": "stdout",
     "output_type": "stream",
     "text": [
      "esta palabra tiene una O\n"
     ]
    }
   ],
   "source": [
    "frase = input('ingrese una frase')\n",
    "for letras in frase:\n",
    "    if letras == 'o':\n",
    "        print('esta palabra tiene una O') \n"
   ]
  }
 ],
 "metadata": {
  "kernelspec": {
   "display_name": "Python 3",
   "language": "python",
   "name": "python3"
  },
  "language_info": {
   "codemirror_mode": {
    "name": "ipython",
    "version": 3
   },
   "file_extension": ".py",
   "mimetype": "text/x-python",
   "name": "python",
   "nbconvert_exporter": "python",
   "pygments_lexer": "ipython3",
   "version": "3.13.3"
  }
 },
 "nbformat": 4,
 "nbformat_minor": 5
}
